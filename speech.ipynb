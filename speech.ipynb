{
 "cells": [
  {
   "cell_type": "code",
   "execution_count": null,
   "id": "55664db4-dd4e-428c-859a-f1cea14bbfd4",
   "metadata": {},
   "outputs": [],
   "source": [
    "import speech_recognition\n",
    "import pyttsx3"
   ]
  },
  {
   "cell_type": "code",
   "execution_count": 5,
   "id": "34073a48-7d5c-4bec-b0ca-8a23f73ce8ec",
   "metadata": {},
   "outputs": [
    {
     "name": "stdout",
     "output_type": "stream",
     "text": [
      "Requirement already satisfied: SpeechRecognition in d:\\campus\\_goal\\ml 2\\env2\\lib\\site-packages (3.10.1)\n",
      "Requirement already satisfied: requests>=2.26.0 in d:\\campus\\_goal\\ml 2\\env2\\lib\\site-packages (from SpeechRecognition) (2.31.0)\n",
      "Requirement already satisfied: typing-extensions in d:\\campus\\_goal\\ml 2\\env2\\lib\\site-packages (from SpeechRecognition) (4.9.0)\n",
      "Requirement already satisfied: charset-normalizer<4,>=2 in d:\\campus\\_goal\\ml 2\\env2\\lib\\site-packages (from requests>=2.26.0->SpeechRecognition) (3.3.2)\n",
      "Requirement already satisfied: idna<4,>=2.5 in d:\\campus\\_goal\\ml 2\\env2\\lib\\site-packages (from requests>=2.26.0->SpeechRecognition) (3.6)\n",
      "Requirement already satisfied: urllib3<3,>=1.21.1 in d:\\campus\\_goal\\ml 2\\env2\\lib\\site-packages (from requests>=2.26.0->SpeechRecognition) (2.1.0)\n",
      "Requirement already satisfied: certifi>=2017.4.17 in d:\\campus\\_goal\\ml 2\\env2\\lib\\site-packages (from requests>=2.26.0->SpeechRecognition) (2023.11.17)\n",
      "Note: you may need to restart the kernel to use updated packages.\n"
     ]
    }
   ],
   "source": [
    "pip install SpeechRecognition\n"
   ]
  },
  {
   "cell_type": "code",
   "execution_count": 3,
   "id": "90d21a5f-6f71-463e-8590-891a599c04b3",
   "metadata": {},
   "outputs": [],
   "source": [
    "def Speaknow(command):\n",
    "    voice = pyttsx3.init()\n",
    "    voice.say(command)\n",
    "    voice.runAndWait()"
   ]
  },
  {
   "cell_type": "code",
   "execution_count": 7,
   "id": "b0c00df0-08f9-4f94-b84b-159c6e1fa2b8",
   "metadata": {},
   "outputs": [
    {
     "ename": "NameError",
     "evalue": "name 'speech_recognition' is not defined",
     "output_type": "error",
     "traceback": [
      "\u001b[1;31m---------------------------------------------------------------------------\u001b[0m",
      "\u001b[1;31mNameError\u001b[0m                                 Traceback (most recent call last)",
      "Cell \u001b[1;32mIn[7], line 1\u001b[0m\n\u001b[1;32m----> 1\u001b[0m sr  \u001b[38;5;241m=\u001b[39m \u001b[43mspeech_recognition\u001b[49m\u001b[38;5;241m.\u001b[39mRecognizer()\n\u001b[0;32m      3\u001b[0m \u001b[38;5;28;01mwith\u001b[39;00m speech_recognition\u001b[38;5;241m.\u001b[39mMicrophone() \u001b[38;5;28;01mas\u001b[39;00m source2:\n\u001b[0;32m      5\u001b[0m     \u001b[38;5;28mprint\u001b[39m(\u001b[38;5;124m\"\u001b[39m\u001b[38;5;124mSilence Please!\u001b[39m\u001b[38;5;124m\"\u001b[39m)\n",
      "\u001b[1;31mNameError\u001b[0m: name 'speech_recognition' is not defined"
     ]
    }
   ],
   "source": [
    "sr  = speech_recognition.Recognizer()\n",
    "\n",
    "with speech_recognition.Microphone() as source2:\n",
    "\n",
    "    print(\"Silence Please!\")\n",
    "    sr.adjust_for_ambient_noise(source2,duration=2)\n",
    "    print(\"Speak now please\")\n",
    "    audio2 = sr.listen(source2)\n",
    "    textt = sr.recognize_google(audio2)\n",
    "    textt = textt.lower()\n",
    "\n",
    "    print(\"Did you said : \"+textt)\n",
    "\n",
    "    Speaknow(textt)\n"
   ]
  },
  {
   "cell_type": "code",
   "execution_count": null,
   "id": "15255026-8023-4f02-b214-0bcac46655d3",
   "metadata": {},
   "outputs": [],
   "source": []
  },
  {
   "cell_type": "code",
   "execution_count": null,
   "id": "ef564a98-8fc9-408d-ab7e-0cc1ae51c717",
   "metadata": {},
   "outputs": [],
   "source": []
  }
 ],
 "metadata": {
  "kernelspec": {
   "display_name": "Python 3 (ipykernel)",
   "language": "python",
   "name": "python3"
  },
  "language_info": {
   "codemirror_mode": {
    "name": "ipython",
    "version": 3
   },
   "file_extension": ".py",
   "mimetype": "text/x-python",
   "name": "python",
   "nbconvert_exporter": "python",
   "pygments_lexer": "ipython3",
   "version": "3.12.1"
  }
 },
 "nbformat": 4,
 "nbformat_minor": 5
}
