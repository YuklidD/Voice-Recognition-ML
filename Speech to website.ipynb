{
 "cells": [
  {
   "cell_type": "code",
   "execution_count": 1,
   "id": "a52979ae-ff81-4725-81cc-3d36d4e73840",
   "metadata": {},
   "outputs": [],
   "source": [
    "import speech_recognition\n",
    "import pyttsx3\n",
    "import webbrowser"
   ]
  },
  {
   "cell_type": "code",
   "execution_count": 2,
   "id": "4f9935b7-0edf-411a-b411-d96faa678b25",
   "metadata": {},
   "outputs": [
    {
     "name": "stdout",
     "output_type": "stream",
     "text": [
      "Silence Please!\n",
      "Please say something to open...\n",
      "You asked to open : facebook.com\n"
     ]
    }
   ],
   "source": [
    "if __name__ == \"__main__\":\n",
    "    path = \"C:/Program Files (x86)/Microsoft/Edge/Application/msedge.exe %s\"\n",
    "    sr  = speech_recognition.Recognizer()\n",
    "\n",
    "    with speech_recognition.Microphone() as source2:\n",
    "\n",
    "        print(\"Silence Please!\")\n",
    "        sr.adjust_for_ambient_noise(source2,duration=2)\n",
    "        print(\"Please say something to open...\")\n",
    "        audio2 = sr.listen(source2)\n",
    "        try:\n",
    "            destination = sr.recognize_google(audio2)\n",
    "            print(\"You asked to open : \"+destination)\n",
    "            webbrowser.get(path).open(destination)\n",
    "        except Exception as e:\n",
    "            print(\"error : \"+str(e))\n",
    "        "
   ]
  },
  {
   "cell_type": "code",
   "execution_count": null,
   "id": "27e99c66-3e97-4c7b-bdde-2e97e03b7e19",
   "metadata": {},
   "outputs": [],
   "source": []
  }
 ],
 "metadata": {
  "kernelspec": {
   "display_name": "Python 3 (ipykernel)",
   "language": "python",
   "name": "python3"
  },
  "language_info": {
   "codemirror_mode": {
    "name": "ipython",
    "version": 3
   },
   "file_extension": ".py",
   "mimetype": "text/x-python",
   "name": "python",
   "nbconvert_exporter": "python",
   "pygments_lexer": "ipython3",
   "version": "3.12.1"
  }
 },
 "nbformat": 4,
 "nbformat_minor": 5
}
